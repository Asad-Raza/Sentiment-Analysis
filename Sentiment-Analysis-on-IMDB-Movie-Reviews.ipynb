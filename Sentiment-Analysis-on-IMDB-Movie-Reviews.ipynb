{
 "cells": [
  {
   "cell_type": "markdown",
   "metadata": {},
   "source": [
    "<h1 align=\"center\"> Sentiment Analysis of IMDB Movie Reviews using Convolutional Neural Network (CNN) with Hyperparameters Tuning </h1>\n",
    "\n",
    "<h1 align=\"center\"> <a href=\"https://github.com/bagheri365/\" target=\"_blank\" rel=\"noopener noreferrer\">Alireza Bagheri</a></h1>"
   ]
  },
  {
   "cell_type": "markdown",
   "metadata": {},
   "source": [
    "<h1>Table of contents</h1>\n",
    "<ul>   \n",
    "    <li><a href=\"#Data\">Data</a> </li> \n",
    "    <ul>\n",
    "        <li><a href=\"#load\"> Load IMDB movie reviews </a></li>\n",
    "        <li><a href=\"#decode\"> Decode reviews from index </a></li>\n",
    "        <li><a href=\"#truncate\"> Truncate and pad the review sequences </a></li>\n",
    "    </ul>\n",
    "    <li><a href=\"#build_model\"> Build the model </a></li>\n",
    "    <ul>\n",
    "        <li><a href=\"#create_model\"> Create the model </a></li>\n",
    "        <li><a href=\"#tweak\"> Tune hyperparameters </a></li>\n",
    "        <li><a href=\"#train\"> Train the model </a></li>\n",
    "    </ul> \n",
    "    <li><a href=\"#evaluate\"> Evaluate the model </a></li>\n",
    "    <li><a href=\"#ref\"> Reference </a></li> \n",
    "</ul> "
   ]
  },
  {
   "cell_type": "markdown",
   "metadata": {},
   "source": [
    "### Data <a name=\"Data\"></a>"
   ]
  },
  {
   "cell_type": "markdown",
   "metadata": {},
   "source": [
    "In this project, I will use IMDB movie reviews. This dataset contains 50,000 movie's reviews from IMDB, labeled by sentiment (positive/negative). The dataset can be loaded and splitted into training and test sets as the following.\n",
    "\n",
    "#### Load IMDB movie reviews  <a name=\"load\"></a>"
   ]
  },
  {
   "cell_type": "code",
   "execution_count": 1,
   "metadata": {},
   "outputs": [
    {
     "name": "stdout",
     "output_type": "stream",
     "text": [
      "25000 train sequences\n",
      "25000 test sequences\n"
     ]
    }
   ],
   "source": [
    "from keras.datasets import imdb\n",
    "\n",
    "(X_train, y_train), (X_test, y_test) = imdb.load_data()\n",
    "\n",
    "print(len(X_train), 'train sequences')\n",
    "print(len(X_test), 'test sequences')"
   ]
  },
  {
   "cell_type": "markdown",
   "metadata": {},
   "source": [
    "Let us have a look at the first sample of training set."
   ]
  },
  {
   "cell_type": "code",
   "execution_count": 2,
   "metadata": {},
   "outputs": [
    {
     "name": "stdout",
     "output_type": "stream",
     "text": [
      "[1, 14, 22, 16, 43, 530, 973, 1622, 1385, 65, 458, 4468, 66, 3941, 4, 173, 36, 256, 5, 25, 100, 43, 838, 112, 50, 670, 22665, 9, 35, 480, 284, 5, 150, 4, 172, 112, 167, 21631, 336, 385, 39, 4, 172, 4536, 1111, 17, 546, 38, 13, 447, 4, 192, 50, 16, 6, 147, 2025, 19, 14, 22, 4, 1920, 4613, 469, 4, 22, 71, 87, 12, 16, 43, 530, 38, 76, 15, 13, 1247, 4, 22, 17, 515, 17, 12, 16, 626, 18, 19193, 5, 62, 386, 12, 8, 316, 8, 106, 5, 4, 2223, 5244, 16, 480, 66, 3785, 33, 4, 130, 12, 16, 38, 619, 5, 25, 124, 51, 36, 135, 48, 25, 1415, 33, 6, 22, 12, 215, 28, 77, 52, 5, 14, 407, 16, 82, 10311, 8, 4, 107, 117, 5952, 15, 256, 4, 31050, 7, 3766, 5, 723, 36, 71, 43, 530, 476, 26, 400, 317, 46, 7, 4, 12118, 1029, 13, 104, 88, 4, 381, 15, 297, 98, 32, 2071, 56, 26, 141, 6, 194, 7486, 18, 4, 226, 22, 21, 134, 476, 26, 480, 5, 144, 30, 5535, 18, 51, 36, 28, 224, 92, 25, 104, 4, 226, 65, 16, 38, 1334, 88, 12, 16, 283, 5, 16, 4472, 113, 103, 32, 15, 16, 5345, 19, 178, 32]\n"
     ]
    }
   ],
   "source": [
    "print(X_train[0])"
   ]
  },
  {
   "cell_type": "markdown",
   "metadata": {},
   "source": [
    "As it clear, the text of reviews is integer-encoded, where each integer represents a specific word in the dictionary. \n",
    "\n",
    "#### Decode reviews from index <a name=\"decode\"></a>\n",
    "\n",
    "We can convert the integers back to words as the following."
   ]
  },
  {
   "cell_type": "code",
   "execution_count": 3,
   "metadata": {},
   "outputs": [
    {
     "data": {
      "text/plain": [
       "\"<START> this film was just brilliant casting location scenery story direction everyone's really suited the part they played and you could just imagine being there robert redford's is an amazing actor and now the same being director norman's father came from the same scottish island as myself so i loved the fact there was a real connection with this film the witty remarks throughout the film were great it was just brilliant so much that i bought the film as soon as it was released for retail and would recommend it to everyone to watch and the fly fishing was amazing really cried at the end it was so sad and you know what they say if you cry at a film it must have been good and this definitely was also congratulations to the two little boy's that played the part's of norman and paul they were just brilliant children are often left out of the praising list i think because the stars that play them all grown up are such a big profile for the whole film but these children are amazing and should be praised for what they have done don't you think the whole story was so lovely because it was true and was someone's life after all that was shared with us all\""
      ]
     },
     "execution_count": 3,
     "metadata": {},
     "output_type": "execute_result"
    }
   ],
   "source": [
    "INDEX_FROM = 3\n",
    "word_index = imdb.get_word_index()\n",
    "word_index = {key:(value+INDEX_FROM) for key,value in word_index.items()}\n",
    "word_index[\"<PAD>\"] = 0    # the padding token\n",
    "word_index[\"<START>\"] = 1  # the starting token\n",
    "word_index[\"<UNK>\"] = 2    # the unknown token\n",
    "reverse_word_index = {value:key for key, value in word_index.items()}\n",
    "\n",
    "def decode_review(text):\n",
    "    return ' '.join([reverse_word_index.get(i, '?') for i in text])\n",
    "\n",
    "decode_review(X_train[0])"
   ]
  },
  {
   "cell_type": "markdown",
   "metadata": {},
   "source": [
    "In continue, I will only consider the top 5,000 most common words. I will also consider 20% of the training set for validation purpose."
   ]
  },
  {
   "cell_type": "code",
   "execution_count": 4,
   "metadata": {},
   "outputs": [
    {
     "name": "stdout",
     "output_type": "stream",
     "text": [
      "20000 train sequences\n",
      "5000 val sequences\n",
      "25000 test sequences\n"
     ]
    }
   ],
   "source": [
    "vocab_size = 5000 \n",
    "(X_train, y_train), (X_test, y_test) = imdb.load_data(num_words= vocab_size)\n",
    "\n",
    "X_train, X_val = X_train[:-5000], X_train[-5000:]\n",
    "y_train, y_val = y_train[:-5000], y_train[-5000:]\n",
    "\n",
    "print(len(X_train), 'train sequences')\n",
    "print(len(X_val), 'val sequences')\n",
    "print(len(X_test), 'test sequences')"
   ]
  },
  {
   "cell_type": "markdown",
   "metadata": {},
   "source": [
    "Let us inspect how the first review looks like when we only consider the top 5,000 frequent words."
   ]
  },
  {
   "cell_type": "code",
   "execution_count": 5,
   "metadata": {},
   "outputs": [
    {
     "data": {
      "text/plain": [
       "\"<START> this film was just brilliant casting location scenery story direction everyone's really suited the part they played and you could just imagine being there robert <UNK> is an amazing actor and now the same being director <UNK> father came from the same scottish island as myself so i loved the fact there was a real connection with this film the witty remarks throughout the film were great it was just brilliant so much that i bought the film as soon as it was released for <UNK> and would recommend it to everyone to watch and the fly <UNK> was amazing really cried at the end it was so sad and you know what they say if you cry at a film it must have been good and this definitely was also <UNK> to the two little <UNK> that played the <UNK> of norman and paul they were just brilliant children are often left out of the <UNK> list i think because the stars that play them all grown up are such a big <UNK> for the whole film but these children are amazing and should be <UNK> for what they have done don't you think the whole story was so lovely because it was true and was someone's life after all that was <UNK> with us all\""
      ]
     },
     "execution_count": 5,
     "metadata": {},
     "output_type": "execute_result"
    }
   ],
   "source": [
    "decode_review(X_train[0])"
   ]
  },
  {
   "cell_type": "markdown",
   "metadata": {},
   "source": [
    "#### Truncate and pad the review sequences <a name=\"truncate\"></a>\n",
    "\n",
    "Movie reviews can be different lengths. We will use the *pad_sequences* function to standardize the lengths of the reviews."
   ]
  },
  {
   "cell_type": "code",
   "execution_count": 6,
   "metadata": {},
   "outputs": [
    {
     "name": "stdout",
     "output_type": "stream",
     "text": [
      "X_train shape: (20000, 500)\n",
      "X_val shape: (5000, 500)\n",
      "X_test shape: (25000, 500)\n"
     ]
    }
   ],
   "source": [
    "from keras.preprocessing.sequence import pad_sequences\n",
    "\n",
    "maximum_sequence_length = 500 # maximum length of all review sequences\n",
    "\n",
    "X_train = pad_sequences(X_train, value= word_index[\"<PAD>\"], padding= 'post', maxlen= maximum_sequence_length)\n",
    "X_val = pad_sequences(X_val, value= word_index[\"<PAD>\"], padding= 'post', maxlen= maximum_sequence_length)\n",
    "X_test = pad_sequences(X_test, value= word_index[\"<PAD>\"], padding= 'post', maxlen= maximum_sequence_length)\n",
    "\n",
    "print('X_train shape:', X_train.shape) # (n_samples, n_timesteps)\n",
    "print('X_val shape:', X_val.shape)\n",
    "print('X_test shape:', X_test.shape)"
   ]
  },
  {
   "cell_type": "markdown",
   "metadata": {},
   "source": [
    "Let us check the first padded review."
   ]
  },
  {
   "cell_type": "code",
   "execution_count": 7,
   "metadata": {},
   "outputs": [
    {
     "name": "stdout",
     "output_type": "stream",
     "text": [
      "[   1   14   22   16   43  530  973 1622 1385   65  458 4468   66 3941\n",
      "    4  173   36  256    5   25  100   43  838  112   50  670    2    9\n",
      "   35  480  284    5  150    4  172  112  167    2  336  385   39    4\n",
      "  172 4536 1111   17  546   38   13  447    4  192   50   16    6  147\n",
      " 2025   19   14   22    4 1920 4613  469    4   22   71   87   12   16\n",
      "   43  530   38   76   15   13 1247    4   22   17  515   17   12   16\n",
      "  626   18    2    5   62  386   12    8  316    8  106    5    4 2223\n",
      "    2   16  480   66 3785   33    4  130   12   16   38  619    5   25\n",
      "  124   51   36  135   48   25 1415   33    6   22   12  215   28   77\n",
      "   52    5   14  407   16   82    2    8    4  107  117    2   15  256\n",
      "    4    2    7 3766    5  723   36   71   43  530  476   26  400  317\n",
      "   46    7    4    2 1029   13  104   88    4  381   15  297   98   32\n",
      " 2071   56   26  141    6  194    2   18    4  226   22   21  134  476\n",
      "   26  480    5  144   30    2   18   51   36   28  224   92   25  104\n",
      "    4  226   65   16   38 1334   88   12   16  283    5   16 4472  113\n",
      "  103   32   15   16    2   19  178   32    0    0    0    0    0    0\n",
      "    0    0    0    0    0    0    0    0    0    0    0    0    0    0\n",
      "    0    0    0    0    0    0    0    0    0    0    0    0    0    0\n",
      "    0    0    0    0    0    0    0    0    0    0    0    0    0    0\n",
      "    0    0    0    0    0    0    0    0    0    0    0    0    0    0\n",
      "    0    0    0    0    0    0    0    0    0    0    0    0    0    0\n",
      "    0    0    0    0    0    0    0    0    0    0    0    0    0    0\n",
      "    0    0    0    0    0    0    0    0    0    0    0    0    0    0\n",
      "    0    0    0    0    0    0    0    0    0    0    0    0    0    0\n",
      "    0    0    0    0    0    0    0    0    0    0    0    0    0    0\n",
      "    0    0    0    0    0    0    0    0    0    0    0    0    0    0\n",
      "    0    0    0    0    0    0    0    0    0    0    0    0    0    0\n",
      "    0    0    0    0    0    0    0    0    0    0    0    0    0    0\n",
      "    0    0    0    0    0    0    0    0    0    0    0    0    0    0\n",
      "    0    0    0    0    0    0    0    0    0    0    0    0    0    0\n",
      "    0    0    0    0    0    0    0    0    0    0    0    0    0    0\n",
      "    0    0    0    0    0    0    0    0    0    0    0    0    0    0\n",
      "    0    0    0    0    0    0    0    0    0    0    0    0    0    0\n",
      "    0    0    0    0    0    0    0    0    0    0    0    0    0    0\n",
      "    0    0    0    0    0    0    0    0    0    0    0    0    0    0\n",
      "    0    0    0    0    0    0    0    0    0    0]\n"
     ]
    }
   ],
   "source": [
    "print(X_train[0])"
   ]
  },
  {
   "cell_type": "markdown",
   "metadata": {},
   "source": [
    "### Build the model <a name=\"build_model\"></a>\n",
    "\n",
    "##### Create the model <a name=\"create_model\"></a>\n",
    "\n",
    "In this project, I will consider a Convolutional Neural Network (CNN) for the text classification."
   ]
  },
  {
   "cell_type": "code",
   "execution_count": 8,
   "metadata": {},
   "outputs": [],
   "source": [
    "import numpy as np\n",
    "from keras.models import Sequential\n",
    "from keras.layers import Embedding, Dropout, Conv1D, GlobalMaxPooling1D, Dense\n",
    "from keras.wrappers.scikit_learn import KerasClassifier\n",
    "from sklearn.model_selection import ParameterGrid\n",
    "from keras.callbacks import EarlyStopping\n",
    "\n",
    "embedding_dim = 16\n",
    "\n",
    "def create_model(filters = 64, kernel_size = 3, strides=1, units = 256, \n",
    "                 optimizer='adam', rate = 0.25, kernel_initializer ='glorot_uniform'):\n",
    "    model = Sequential()\n",
    "    # Embedding layer\n",
    "    model.add(Embedding(vocab_size, embedding_dim, input_length= maximum_sequence_length))\n",
    "    # Convolutional Layer(s)\n",
    "    model.add(Dropout(rate))\n",
    "    model.add(Conv1D(filters = filters, kernel_size = kernel_size, strides= strides, \n",
    "                     padding='same', activation= 'relu'))\n",
    "    model.add(GlobalMaxPooling1D())\n",
    "    # Dense layer(s)\n",
    "    model.add(Dense(units = units, activation= 'relu', kernel_initializer= kernel_initializer))\n",
    "    model.add(Dropout(rate))\n",
    "    # Output layer\n",
    "    model.add(Dense(1, activation= 'sigmoid'))\n",
    "    \n",
    "    # Compile the model\n",
    "    model.compile(loss='binary_crossentropy',\n",
    "                  optimizer= optimizer,\n",
    "                  metrics=['accuracy'])\n",
    "    return model\n",
    "# Build the model\n",
    "model = KerasClassifier(build_fn= create_model)"
   ]
  },
  {
   "cell_type": "markdown",
   "metadata": {},
   "source": [
    "##### Tune hyperparameters <a name=\"tweak\"></a>\n",
    "\n",
    "Now, it is time to tweak hyperparameters to imporve accuracy over validation set."
   ]
  },
  {
   "cell_type": "code",
   "execution_count": 9,
   "metadata": {},
   "outputs": [
    {
     "name": "stdout",
     "output_type": "stream",
     "text": [
      "{'batch_size': 64, 'epochs': 5, 'filters': 128, 'kernel_initializer': 'TruncatedNormal', 'kernel_size': 5, 'optimizer': 'adam', 'rate': 0.25, 'strides': 1, 'units': 128}\n",
      "Train on 20000 samples, validate on 5000 samples\n",
      "Epoch 1/5\n",
      "20000/20000 [==============================] - 57s 3ms/step - loss: 0.5705 - acc: 0.6634 - val_loss: 0.3607 - val_acc: 0.8482\n",
      "Epoch 2/5\n",
      "20000/20000 [==============================] - 60s 3ms/step - loss: 0.3236 - acc: 0.8582 - val_loss: 0.2914 - val_acc: 0.8792\n",
      "Epoch 3/5\n",
      "20000/20000 [==============================] - 62s 3ms/step - loss: 0.2426 - acc: 0.9029 - val_loss: 0.2723 - val_acc: 0.8894\n",
      "Epoch 4/5\n",
      "20000/20000 [==============================] - 62s 3ms/step - loss: 0.2053 - acc: 0.9207 - val_loss: 0.2776 - val_acc: 0.8902\n",
      "Epoch 5/5\n",
      "20000/20000 [==============================] - 65s 3ms/step - loss: 0.1698 - acc: 0.9348 - val_loss: 0.2765 - val_acc: 0.8908\n",
      "+-+-+-+-+-+-+-+-+-+-+-+-+-+-+-+-+-+-+-+-+-+-+-+-+-+-+-+-+-+-+-+-+-+-+-+-+-+-+-+-+-+-+-+-+-+-+-+-+-+-\n",
      "{'batch_size': 64, 'epochs': 5, 'filters': 128, 'kernel_initializer': 'TruncatedNormal', 'kernel_size': 5, 'optimizer': 'adam', 'rate': 0.25, 'strides': 1, 'units': 512}\n",
      "Train on 20000 samples, validate on 5000 samples\n",
      "Epoch 1/5\n",
      "20000/20000 [==============================] - 67s 3ms/step - loss: 0.5520 - acc: 0.6775 - val_loss: 0.3555 - val_acc: 0.8404\n",
      "Epoch 2/5\n",
      "20000/20000 [==============================] - 65s 3ms/step - loss: 0.2975 - acc: 0.8766 - val_loss: 0.2785 - val_acc: 0.8852\n",
      "Epoch 3/5\n",
      "20000/20000 [==============================] - 66s 3ms/step - loss: 0.2270 - acc: 0.9097 - val_loss: 0.2581 - val_acc: 0.9000\n",
      "Epoch 4/5\n",
      "20000/20000 [==============================] - 66s 3ms/step - loss: 0.1868 - acc: 0.9285 - val_loss: 0.2644 - val_acc: 0.8972\n",
      "Epoch 00004: early stopping\n",
      "+-+-+-+-+-+-+-+-+-+-+-+-+-+-+-+-+-+-+-+-+-+-+-+-+-+-+-+-+-+-+-+-+-+-+-+-+-+-+-+-+-+-+-+-+-+-+-+-+-+-\n",
      "param_scores: [0.8908, 0.8972]\n",
      "best score: 0.8972\n",
      "best parameter set {'batch_size': 64, 'epochs': 5, 'filters': 128, 'kernel_initializer': 'TruncatedNormal', 'kernel_size': 5, 'optimizer': 'adam', 'rate': 0.25, 'strides': 1, 'units': 512}\n"
     ]
    }
   ],
   "source": [
    "# Set the hyperparameters\n",
    "filters = [128] #[64, 128, 256]\n",
    "kernel_size = [5] #[3, 5, 7]\n",
    "strides= [1] # [1, 2, 5]\n",
    "Dense_units = [128, 512]\n",
    "kernel_initializer = ['TruncatedNormal'] #['zero', 'glorot_uniform', 'glorot_normal','TruncatedNormal']\n",
    "rate_dropouts = [0.25] #[0.1, 0.25, 0.5]\n",
    "optimizers = ['adam'] #['adam','rmsprop']\n",
    "epochs = [5]\n",
    "batches = [64] #[32, 64, 128]\n",
    "# ----------------------------------------------\n",
    "# Exhaustive Grid Search\n",
    "param_grid = dict(optimizer= optimizers, epochs= epochs, batch_size= batches,\n",
    "                  filters = filters, kernel_size = kernel_size, strides = strides, \n",
    "                  units = Dense_units, kernel_initializer= kernel_initializer, rate = rate_dropouts)\n",
    "\n",
    "grid = ParameterGrid(param_grid)\n",
    "param_sets = list(grid)\n",
    "\n",
    "param_scores = []\n",
    "for params in grid:\n",
    "\n",
    "    print(params)\n",
    "    model.set_params(**params)\n",
    "\n",
    "    earlystopper = EarlyStopping(monitor='val_acc', patience= 0, verbose=1)\n",
    "    \n",
    "    history = model.fit(X_train, y_train,\n",
    "                        shuffle= True,\n",
    "                        validation_data=(X_val, y_val),\n",
    "                        callbacks= [earlystopper])\n",
    "\n",
    "    param_score = history.history['val_acc']\n",
    "    param_scores.append(param_score[-1])\n",
    "    print('+-'*50) \n",
    "\n",
    "print('param_scores:', param_scores)\n",
    "print(\"best score:\", param_scores[p])\n",
    "# Choose best parameters\n",
    "p = np.argmax(np.array(param_scores))\n",
    "best_params = param_sets[p]\n",
    "print(\"best parameter set\", best_params)"
   ]
  },
  {
   "cell_type": "markdown",
   "metadata": {},
   "source": [
    "#### Train the model <a name=\"train\"></a>\n",
    "\n",
    "Here, I train the model with the best obtained hyperparameters over train + validation sets."
   ]
  },
  {
   "cell_type": "code",
   "execution_count": 10,
   "metadata": {},
   "outputs": [
    {
     "name": "stdout",
     "output_type": "stream",
     "text": [
      "Epoch 1/5\n",
      "25000/25000 [==============================] - 47s 2ms/step - loss: 0.4977 - acc: 0.7292\n",
      "Epoch 2/5\n",
      "25000/25000 [==============================] - 47s 2ms/step - loss: 0.2748 - acc: 0.8858\n",
      "Epoch 3/5\n",
      "25000/25000 [==============================] - 49s 2ms/step - loss: 0.2203 - acc: 0.9132\n",
      "Epoch 4/5\n",
      "25000/25000 [==============================] - 52s 2ms/step - loss: 0.1850 - acc: 0.9295\n",
      "Epoch 5/5\n",
      "25000/25000 [==============================] - 56s 2ms/step - loss: 0.1573 - acc: 0.9400\n"
     ]
    },
    {
     "data": {
      "text/plain": [
       "<keras.callbacks.History at 0x45e29470>"
      ]
     },
     "execution_count": 10,
     "metadata": {},
     "output_type": "execute_result"
    }
   ],
   "source": [
    "model.set_params(**best_params)\n",
    "model.fit(np.vstack((X_train, X_val)), np.hstack((y_train, y_val)))"
   ]
  },
  {
   "cell_type": "markdown",
   "metadata": {},
   "source": [
    "### Evaluate the model <a name=\"evaluate\"></a>\n",
    "\n",
    "Finally, I evaluate performance of the trained model over unsean test set."
   ]
  },
  {
   "cell_type": "code",
   "execution_count": 11,
   "metadata": {},
   "outputs": [
    {
     "name": "stdout",
     "output_type": "stream",
     "text": [
      "Test accuracy = 89.220000%\n"
     ]
    }
   ],
   "source": [
    "print(\"Test accuracy = %f%%\" % (accuracy_score(y_test, model.predict(X_test))*100))"
   ]
  },
  {
   "cell_type": "markdown",
   "metadata": {},
   "source": [
    "### Reference <a name=\"ref\"></a>\n",
    "\n",
    "https://keras.io/examples/imdb_cnn/"
   ]
  }
 ],
 "metadata": {
  "kernelspec": {
   "display_name": "Python 3",
   "language": "python",
   "name": "python3"
  },
  "language_info": {
   "codemirror_mode": {
    "name": "ipython",
    "version": 3
   },
   "file_extension": ".py",
   "mimetype": "text/x-python",
   "name": "python",
   "nbconvert_exporter": "python",
   "pygments_lexer": "ipython3",
   "version": "3.7.1"
  }
 },
 "nbformat": 4,
 "nbformat_minor": 2
}
